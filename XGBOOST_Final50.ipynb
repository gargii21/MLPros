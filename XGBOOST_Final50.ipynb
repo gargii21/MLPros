{
  "nbformat": 4,
  "nbformat_minor": 0,
  "metadata": {
    "colab": {
      "provenance": [],
      "gpuType": "T4",
      "authorship_tag": "ABX9TyOCFZR5Tc4BAoo1abr/bxWD",
      "include_colab_link": true
    },
    "kernelspec": {
      "name": "python3",
      "display_name": "Python 3"
    },
    "language_info": {
      "name": "python"
    },
    "accelerator": "GPU"
  },
  "cells": [
    {
      "cell_type": "markdown",
      "metadata": {
        "id": "view-in-github",
        "colab_type": "text"
      },
      "source": [
        "<a href=\"https://colab.research.google.com/github/gargii21/MLPros/blob/main/XGBOOST_Final50.ipynb\" target=\"_parent\"><img src=\"https://colab.research.google.com/assets/colab-badge.svg\" alt=\"Open In Colab\"/></a>"
      ]
    },
    {
      "cell_type": "code",
      "execution_count": null,
      "metadata": {
        "colab": {
          "base_uri": "https://localhost:8080/"
        },
        "id": "uitalPfItWpV",
        "outputId": "e221d883-374e-4dfb-ab78-2430c2c75af5"
      },
      "outputs": [
        {
          "output_type": "stream",
          "name": "stdout",
          "text": [
            "Mounted at /content/drive\n"
          ]
        }
      ],
      "source": [
        "from google.colab import drive\n",
        "drive.mount('/content/drive')"
      ]
    },
    {
      "cell_type": "code",
      "source": [
        "import pandas as pd\n",
        "import numpy as np"
      ],
      "metadata": {
        "id": "fFXQTLEkvXI4"
      },
      "execution_count": null,
      "outputs": []
    },
    {
      "cell_type": "code",
      "source": [
        "df = pd.read_csv('/content/drive/MyDrive/stepmix_input50.csv')\n",
        "df.shape"
      ],
      "metadata": {
        "colab": {
          "base_uri": "https://localhost:8080/"
        },
        "id": "1c5EX88svZf_",
        "outputId": "ed424fdc-8884-433a-9482-d50282b61b53"
      },
      "execution_count": null,
      "outputs": [
        {
          "output_type": "execute_result",
          "data": {
            "text/plain": [
              "(50, 397)"
            ]
          },
          "metadata": {},
          "execution_count": 3
        }
      ]
    },
    {
      "cell_type": "code",
      "source": [
        "#increamental cha random search\n",
        "\n",
        "import xgboost as xgb\n",
        "from sklearn.model_selection import RandomizedSearchCV\n",
        "import numpy as np\n",
        "\n",
        "# Prepare your data\n",
        "X = df.iloc[:, :396].replace(-1, np.nan).values\n",
        "y = df.iloc[:, 396].map({\"Stable\": 0, \"Slow Decline\": 1, \"Rapid Decline\": 2}).values\n",
        "\n",
        "# param_grid = {\n",
        "#     'n_estimators': [10, 20, 50],  # low because we'll train incrementally\n",
        "#     'max_depth': [3, 5, 7],\n",
        "#     'learning_rate': [0.01, 0.05, 0.1],\n",
        "#     'subsample': [0.7, 1.0],\n",
        "#     'colsample_bytree': [0.7, 1.0],\n",
        "#     'gamma': [0, 0.1],\n",
        "#     'min_child_weight': [1, 3],\n",
        "#     'reg_alpha': [0, 0.1],\n",
        "#     'reg_lambda': [1, 2]\n",
        "# }\n",
        "\n",
        "param_grid = {\n",
        "    'n_estimators': [50, 100, 200],          # Increase for more robust trees even incrementally\n",
        "    'max_depth': [3, 5, 7, 9],               # Add deeper trees if data is complex\n",
        "    'learning_rate': [0.005, 0.01, 0.05, 0.1], # Include slower rates for finer updates\n",
        "    'subsample': [0.5, 0.7, 0.9, 1.0],       # More variability in sampling data rows\n",
        "    'colsample_bytree': [0.5, 0.7, 0.9, 1.0],# More variability in sampling features\n",
        "    'gamma': [0, 0.1, 0.3, 0.5],             # Try stronger pruning options\n",
        "    'min_child_weight': [1, 3, 5, 7],        # Regularize deeper splits\n",
        "    'reg_alpha': [0, 0.1, 0.5, 1],           # L1 regularization to avoid overfitting\n",
        "    'reg_lambda': [1, 1.5, 2, 5]             # L2 regularization\n",
        "}\n",
        "\n",
        "\n",
        "model = xgb.XGBClassifier(\n",
        "    eval_metric='mlogloss',\n",
        "    use_label_encoder=False\n",
        ")\n",
        "\n",
        "random_search = RandomizedSearchCV(\n",
        "    estimator=model,\n",
        "    param_distributions=param_grid,\n",
        "    n_iter=30,\n",
        "    scoring='accuracy',\n",
        "    cv=3,\n",
        "    verbose=1,\n",
        "    n_jobs=-1,\n",
        "    random_state=42\n",
        ")\n",
        "\n",
        "random_search.fit(X, y)\n",
        "\n",
        "best_params = random_search.best_params_\n",
        "print(\"Best hyperparameters:\", best_params)\n"
      ],
      "metadata": {
        "colab": {
          "base_uri": "https://localhost:8080/"
        },
        "id": "qCljClEzwApm",
        "outputId": "9c1f2793-3c8e-42a3-8457-4c2fdec878f4"
      },
      "execution_count": null,
      "outputs": [
        {
          "output_type": "stream",
          "name": "stdout",
          "text": [
            "Fitting 3 folds for each of 30 candidates, totalling 90 fits\n"
          ]
        },
        {
          "output_type": "stream",
          "name": "stderr",
          "text": [
            "/usr/local/lib/python3.11/dist-packages/xgboost/core.py:158: UserWarning: [13:03:32] WARNING: /workspace/src/learner.cc:740: \n",
            "Parameters: { \"use_label_encoder\" } are not used.\n",
            "\n",
            "  warnings.warn(smsg, UserWarning)\n"
          ]
        },
        {
          "output_type": "stream",
          "name": "stdout",
          "text": [
            "Best hyperparameters: {'subsample': 1.0, 'reg_lambda': 1.5, 'reg_alpha': 0.5, 'n_estimators': 100, 'min_child_weight': 1, 'max_depth': 5, 'learning_rate': 0.05, 'gamma': 0.5, 'colsample_bytree': 1.0}\n"
          ]
        }
      ]
    },
    {
      "cell_type": "code",
      "source": [
        "#increamental model\n",
        "\n",
        "# # batch_size = 100\n",
        "# n_samples = X.shape[0]\n",
        "# n_batches = n_samples // batch_size\n",
        "\n",
        "# Initialize model with best hyperparameters\n",
        "incremental_model = xgb.XGBClassifier(\n",
        "    **best_params,\n",
        "    eval_metric='mlogloss',\n",
        "    use_label_encoder=False\n",
        ")\n",
        "\n",
        "prev_model = None\n",
        "\n",
        "for i in range(1,7):\n",
        "     X_test = np.full((50, 396), np.nan)\n",
        "     X_test[:, :66*i] = X[:, :66*i]  # <-- take first 66 * i columns from X\n",
        "     y = df.iloc[:, 396].map({\"Stable\": 0, \"Slow Decline\": 1, \"Rapid Decline\": 2}).values\n",
        "\n",
        "\n",
        "\n",
        "     incremental_model.fit(\n",
        "        X_test, y,\n",
        "        xgb_model=prev_model\n",
        "     )\n",
        "\n",
        "     prev_model = incremental_model.get_booster()\n"
      ],
      "metadata": {
        "colab": {
          "base_uri": "https://localhost:8080/"
        },
        "id": "sm1Zz4y0wMHX",
        "outputId": "b69d1598-aeec-4129-d71d-a59e2a14af56"
      },
      "execution_count": null,
      "outputs": [
        {
          "output_type": "stream",
          "name": "stderr",
          "text": [
            "/usr/local/lib/python3.11/dist-packages/xgboost/core.py:158: UserWarning: [13:04:06] WARNING: /workspace/src/learner.cc:740: \n",
            "Parameters: { \"use_label_encoder\" } are not used.\n",
            "\n",
            "  warnings.warn(smsg, UserWarning)\n",
            "/usr/local/lib/python3.11/dist-packages/xgboost/core.py:158: UserWarning: [13:04:07] WARNING: /workspace/src/learner.cc:740: \n",
            "Parameters: { \"use_label_encoder\" } are not used.\n",
            "\n",
            "  warnings.warn(smsg, UserWarning)\n",
            "/usr/local/lib/python3.11/dist-packages/xgboost/core.py:158: UserWarning: [13:04:08] WARNING: /workspace/src/learner.cc:740: \n",
            "Parameters: { \"use_label_encoder\" } are not used.\n",
            "\n",
            "  warnings.warn(smsg, UserWarning)\n",
            "/usr/local/lib/python3.11/dist-packages/xgboost/core.py:158: UserWarning: [13:04:08] WARNING: /workspace/src/learner.cc:740: \n",
            "Parameters: { \"use_label_encoder\" } are not used.\n",
            "\n",
            "  warnings.warn(smsg, UserWarning)\n",
            "/usr/local/lib/python3.11/dist-packages/xgboost/core.py:158: UserWarning: [13:04:09] WARNING: /workspace/src/learner.cc:740: \n",
            "Parameters: { \"use_label_encoder\" } are not used.\n",
            "\n",
            "  warnings.warn(smsg, UserWarning)\n",
            "/usr/local/lib/python3.11/dist-packages/xgboost/core.py:158: UserWarning: [13:04:09] WARNING: /workspace/src/learner.cc:740: \n",
            "Parameters: { \"use_label_encoder\" } are not used.\n",
            "\n",
            "  warnings.warn(smsg, UserWarning)\n"
          ]
        }
      ]
    },
    {
      "cell_type": "code",
      "source": [
        "\n",
        "def mask_all_after(X, n_unmasked=66):\n",
        "    X_masked = X.copy()\n",
        "    X_masked[:, n_unmasked:] = np.nan\n",
        "    return X_masked\n",
        "\n",
        "# Masked data: only first 66 features present\n",
        "for i in range(1,7):\n",
        "  X_masked = mask_all_after(X, n_unmasked=66*i)\n",
        "\n",
        "  # Continue training the existing best_model on masked data\n",
        "  incremental_model.fit(\n",
        "      X_masked, y,\n",
        "      xgb_model=incremental_model.get_booster()\n",
        "  )"
      ],
      "metadata": {
        "colab": {
          "base_uri": "https://localhost:8080/"
        },
        "id": "egbXpwHiwN22",
        "outputId": "e94a559d-79d8-4c5a-8e20-09e34641bc90"
      },
      "execution_count": null,
      "outputs": [
        {
          "output_type": "stream",
          "name": "stderr",
          "text": [
            "/usr/local/lib/python3.11/dist-packages/xgboost/core.py:158: UserWarning: [13:04:20] WARNING: /workspace/src/learner.cc:740: \n",
            "Parameters: { \"use_label_encoder\" } are not used.\n",
            "\n",
            "  warnings.warn(smsg, UserWarning)\n",
            "/usr/local/lib/python3.11/dist-packages/xgboost/core.py:158: UserWarning: [13:04:21] WARNING: /workspace/src/learner.cc:740: \n",
            "Parameters: { \"use_label_encoder\" } are not used.\n",
            "\n",
            "  warnings.warn(smsg, UserWarning)\n",
            "/usr/local/lib/python3.11/dist-packages/xgboost/core.py:158: UserWarning: [13:04:22] WARNING: /workspace/src/learner.cc:740: \n",
            "Parameters: { \"use_label_encoder\" } are not used.\n",
            "\n",
            "  warnings.warn(smsg, UserWarning)\n"
          ]
        }
      ]
    },
    {
      "cell_type": "code",
      "source": [
        "# for j in range(3):\n",
        "#   for i in range(1, 7):\n",
        "#     X_masked = mask_all_after(X, n_unmasked=66*i)\n",
        "\n",
        "#     # Continue training the existing best_model on masked data\n",
        "#     incremental_model.fit(\n",
        "#         X_masked, y,\n",
        "#         xgb_model=incremental_model.get_booster()\n",
        "#     )"
      ],
      "metadata": {
        "id": "tm4QkjzVy0Xr"
      },
      "execution_count": null,
      "outputs": []
    },
    {
      "cell_type": "code",
      "source": [
        "for j in range(3):\n",
        "  for i in range(1, 7):\n",
        "    X_masked = mask_all_after(X, n_unmasked=66*i)\n",
        "\n",
        "    # Continue training the existing best_model on masked data\n",
        "    incremental_model.fit(\n",
        "        X_masked, y,\n",
        "        xgb_model=incremental_model.get_booster()\n",
        "    )"
      ],
      "metadata": {
        "colab": {
          "base_uri": "https://localhost:8080/"
        },
        "id": "t7DUW1UK2W5u",
        "outputId": "58b0a9c4-1844-4347-a7d0-2e3d4418b283"
      },
      "execution_count": null,
      "outputs": [
        {
          "output_type": "stream",
          "name": "stderr",
          "text": [
            "/usr/local/lib/python3.11/dist-packages/xgboost/core.py:158: UserWarning: [13:05:03] WARNING: /workspace/src/learner.cc:740: \n",
            "Parameters: { \"use_label_encoder\" } are not used.\n",
            "\n",
            "  warnings.warn(smsg, UserWarning)\n",
            "/usr/local/lib/python3.11/dist-packages/xgboost/core.py:158: UserWarning: [13:05:04] WARNING: /workspace/src/learner.cc:740: \n",
            "Parameters: { \"use_label_encoder\" } are not used.\n",
            "\n",
            "  warnings.warn(smsg, UserWarning)\n",
            "/usr/local/lib/python3.11/dist-packages/xgboost/core.py:158: UserWarning: [13:05:05] WARNING: /workspace/src/learner.cc:740: \n",
            "Parameters: { \"use_label_encoder\" } are not used.\n",
            "\n",
            "  warnings.warn(smsg, UserWarning)\n",
            "/usr/local/lib/python3.11/dist-packages/xgboost/core.py:158: UserWarning: [13:05:06] WARNING: /workspace/src/learner.cc:740: \n",
            "Parameters: { \"use_label_encoder\" } are not used.\n",
            "\n",
            "  warnings.warn(smsg, UserWarning)\n",
            "/usr/local/lib/python3.11/dist-packages/xgboost/core.py:158: UserWarning: [13:05:07] WARNING: /workspace/src/learner.cc:740: \n",
            "Parameters: { \"use_label_encoder\" } are not used.\n",
            "\n",
            "  warnings.warn(smsg, UserWarning)\n",
            "/usr/local/lib/python3.11/dist-packages/xgboost/core.py:158: UserWarning: [13:05:08] WARNING: /workspace/src/learner.cc:740: \n",
            "Parameters: { \"use_label_encoder\" } are not used.\n",
            "\n",
            "  warnings.warn(smsg, UserWarning)\n",
            "/usr/local/lib/python3.11/dist-packages/xgboost/core.py:158: UserWarning: [13:05:08] WARNING: /workspace/src/learner.cc:740: \n",
            "Parameters: { \"use_label_encoder\" } are not used.\n",
            "\n",
            "  warnings.warn(smsg, UserWarning)\n",
            "/usr/local/lib/python3.11/dist-packages/xgboost/core.py:158: UserWarning: [13:05:10] WARNING: /workspace/src/learner.cc:740: \n",
            "Parameters: { \"use_label_encoder\" } are not used.\n",
            "\n",
            "  warnings.warn(smsg, UserWarning)\n",
            "/usr/local/lib/python3.11/dist-packages/xgboost/core.py:158: UserWarning: [13:05:11] WARNING: /workspace/src/learner.cc:740: \n",
            "Parameters: { \"use_label_encoder\" } are not used.\n",
            "\n",
            "  warnings.warn(smsg, UserWarning)\n",
            "/usr/local/lib/python3.11/dist-packages/xgboost/core.py:158: UserWarning: [13:05:12] WARNING: /workspace/src/learner.cc:740: \n",
            "Parameters: { \"use_label_encoder\" } are not used.\n",
            "\n",
            "  warnings.warn(smsg, UserWarning)\n",
            "/usr/local/lib/python3.11/dist-packages/xgboost/core.py:158: UserWarning: [13:05:13] WARNING: /workspace/src/learner.cc:740: \n",
            "Parameters: { \"use_label_encoder\" } are not used.\n",
            "\n",
            "  warnings.warn(smsg, UserWarning)\n",
            "/usr/local/lib/python3.11/dist-packages/xgboost/core.py:158: UserWarning: [13:05:13] WARNING: /workspace/src/learner.cc:740: \n",
            "Parameters: { \"use_label_encoder\" } are not used.\n",
            "\n",
            "  warnings.warn(smsg, UserWarning)\n",
            "/usr/local/lib/python3.11/dist-packages/xgboost/core.py:158: UserWarning: [13:05:14] WARNING: /workspace/src/learner.cc:740: \n",
            "Parameters: { \"use_label_encoder\" } are not used.\n",
            "\n",
            "  warnings.warn(smsg, UserWarning)\n",
            "/usr/local/lib/python3.11/dist-packages/xgboost/core.py:158: UserWarning: [13:05:15] WARNING: /workspace/src/learner.cc:740: \n",
            "Parameters: { \"use_label_encoder\" } are not used.\n",
            "\n",
            "  warnings.warn(smsg, UserWarning)\n",
            "/usr/local/lib/python3.11/dist-packages/xgboost/core.py:158: UserWarning: [13:05:16] WARNING: /workspace/src/learner.cc:740: \n",
            "Parameters: { \"use_label_encoder\" } are not used.\n",
            "\n",
            "  warnings.warn(smsg, UserWarning)\n"
          ]
        }
      ]
    },
    {
      "cell_type": "code",
      "source": [
        "from sklearn.metrics import accuracy_score\n",
        "\n",
        "for i in range(1, 7):\n",
        "    X_test = np.full((50, 396), np.nan)\n",
        "    X_test[:, :66*i] = X[:, :66*i]\n",
        "    preds = incremental_model.predict(X_test)\n",
        "    acc = accuracy_score(y[:], preds)\n",
        "    print(f\"Accuracy with first {66*i} features: {acc}\")"
      ],
      "metadata": {
        "colab": {
          "base_uri": "https://localhost:8080/"
        },
        "id": "xK1esXY6wVEG",
        "outputId": "1e5787c9-9a7d-4f26-dcde-31ee70d28148"
      },
      "execution_count": null,
      "outputs": [
        {
          "output_type": "stream",
          "name": "stdout",
          "text": [
            "Accuracy with first 66 features: 0.96\n",
            "Accuracy with first 132 features: 0.98\n",
            "Accuracy with first 198 features: 0.98\n",
            "Accuracy with first 264 features: 0.98\n",
            "Accuracy with first 330 features: 0.98\n",
            "Accuracy with first 396 features: 0.98\n"
          ]
        }
      ]
    },
    {
      "cell_type": "code",
      "source": [
        "#TESTING"
      ],
      "metadata": {
        "id": "DTNSpo4nwxhd"
      },
      "execution_count": null,
      "outputs": []
    },
    {
      "cell_type": "code",
      "source": [
        "dftest = pd.read_csv('/content/drive/MyDrive/Stepmix_test_10.csv')\n",
        "dftest.shape"
      ],
      "metadata": {
        "colab": {
          "base_uri": "https://localhost:8080/"
        },
        "id": "j6uoqCN4wzF2",
        "outputId": "72c57fe9-028a-4170-caa8-efb103bf2da1"
      },
      "execution_count": null,
      "outputs": [
        {
          "output_type": "execute_result",
          "data": {
            "text/plain": [
              "(10, 397)"
            ]
          },
          "metadata": {},
          "execution_count": 10
        }
      ]
    },
    {
      "cell_type": "code",
      "source": [
        "X = dftest.iloc[:, :396].replace(-1, np.nan).values\n",
        "y = dftest.iloc[:, 396].map({\"Stable\": 0, \"Slow Decline\": 1, \"Rapid Decline\": 2}).values\n",
        "\n",
        "from sklearn.metrics import accuracy_score\n",
        "\n",
        "for i in range(1, 7):\n",
        "    X_test = np.full((10, 396), np.nan)\n",
        "    X_test[:, :66*i] = X[:, :66*i]\n",
        "    preds = incremental_model.predict(X_test)\n",
        "    acc = accuracy_score(y[:], preds)\n",
        "    print(f\"Accuracy with first {66*i} features: {acc}\")"
      ],
      "metadata": {
        "colab": {
          "base_uri": "https://localhost:8080/"
        },
        "id": "1f5FaTVgx410",
        "outputId": "d3a95b00-f6bb-4084-c150-a293458b8197"
      },
      "execution_count": null,
      "outputs": [
        {
          "output_type": "stream",
          "name": "stdout",
          "text": [
            "Accuracy with first 66 features: 0.7\n",
            "Accuracy with first 132 features: 0.7\n",
            "Accuracy with first 198 features: 0.7\n",
            "Accuracy with first 264 features: 0.7\n",
            "Accuracy with first 330 features: 0.7\n",
            "Accuracy with first 396 features: 0.7\n"
          ]
        }
      ]
    }
  ]
}